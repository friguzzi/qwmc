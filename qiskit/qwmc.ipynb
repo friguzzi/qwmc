{
 "cells": [
  {
   "cell_type": "code",
   "execution_count": 1,
   "metadata": {},
   "outputs": [],
   "source": [
    "from qiskit import Aer\n",
    "from qiskit import QuantumCircuit, ClassicalRegister, QuantumRegister, execute\n",
    "from qiskit.tools.visualization import plot_histogram\n",
    "from math import pi, sqrt, sin, asin\n",
    "import time\n",
    "\n",
    "%matplotlib inline"
   ]
  },
  {
   "cell_type": "code",
   "execution_count": 2,
   "metadata": {},
   "outputs": [],
   "source": [
    "def sprinkler(qc,q,a):\n",
    "    qc.x(q[2])\n",
    "    qc.x(a[0])\n",
    "    qc.x(a[1])\n",
    "    qc.x(a[2])\n",
    "    qc.ccx(q[0],q[1],a[0])\n",
    "    qc.ccx(q[1],q[2],a[1])\n",
    "    qc.ccx(q[0],q[2],a[2])\n",
    "    qc.mct([a[0],a[1],a[2],q[3]],a[3])\n",
    "    qc.ccx(q[0],q[2],a[2])\n",
    "    qc.ccx(q[1],q[2],a[1])\n",
    "    qc.ccx(q[0],q[1],a[0])\n",
    "    qc.x(a[2])\n",
    "    qc.x(a[1])\n",
    "    qc.x(a[0])\n",
    "    qc.x(q[2])\n"
   ]
  },
  {
   "cell_type": "code",
   "execution_count": 14,
   "metadata": {},
   "outputs": [],
   "source": [
    "def rotations():\n",
    "    q=QuantumRegister(4)\n",
    "    qc=QuantumCircuit(q)\n",
    "    theta0=2.0*asin(sqrt(0.55))\n",
    "    theta1=2.0*asin(sqrt(0.3))\n",
    "    theta2=2.0*asin(sqrt(0.7))\n",
    "    qc.ry(theta0,q[0])\n",
    "    qc.ry(theta1,q[1])\n",
    "    qc.ry(theta2,q[2])\n",
    "\n",
    "    qc.h(q[3])\n",
    "    return qc\n",
    "\n",
    "rot=rotations().to_gate()\n",
    "invrot=rot.inverse()"
   ]
  },
  {
   "cell_type": "code",
   "execution_count": 15,
   "metadata": {},
   "outputs": [],
   "source": [
    "def grover():\n",
    "    q=QuantumRegister(4)\n",
    "    a=QuantumRegister(5)\n",
    "    qc=QuantumCircuit(q,a)\n",
    "    qc.x(a[3])\n",
    "    qc.h(a[3])\n",
    "    sprinkler(qc,q,a)\n",
    "    qc.h(a[3])\n",
    "    qc.x(a[3])\n",
    "    qc.append(invrot,range(4))\n",
    "    for i in range(q.size):\n",
    "        qc.x(q[i])\n",
    "    qc.mct([q[0],q[1],q[2],q[3]],a[4])\n",
    "    qc.z(a[4])\n",
    "    qc.mct([q[0],q[1],q[2],q[3]],a[4])\n",
    "    for i in range(q.size):\n",
    "        qc.x(q[i])\n",
    "    qc.ry(2*pi,q[0]) \n",
    "    qc.append(rot,range(4))\n",
    "\n",
    "    return qc"
   ]
  },
  {
   "cell_type": "code",
   "execution_count": 16,
   "metadata": {},
   "outputs": [],
   "source": [
    "ggrover = grover().to_gate()\n",
    "cggrover = ggrover.control()"
   ]
  },
  {
   "cell_type": "code",
   "execution_count": 17,
   "metadata": {},
   "outputs": [],
   "source": [
    "def qft(n):\n",
    "    \"\"\"Creates an n-qubit QFT circuit\"\"\"\n",
    "    circuit = QuantumCircuit(n)\n",
    "    def swap_registers(circuit, n):\n",
    "        for qubit in range(n//2):\n",
    "            circuit.swap(qubit, n-qubit-1)\n",
    "        return circuit\n",
    "    def qft_rotations(circuit, n):\n",
    "        \"\"\"Performs qft on the first n qubits in circuit (without swaps)\"\"\"\n",
    "        if n == 0:\n",
    "            return circuit\n",
    "        n -= 1\n",
    "        circuit.h(n)\n",
    "        for qubit in range(n):\n",
    "            circuit.cu1(pi/2**(n-qubit), qubit, n)\n",
    "        qft_rotations(circuit, n)\n",
    "    \n",
    "    qft_rotations(circuit, n)\n",
    "    swap_registers(circuit, n)\n",
    "    return circuit\n",
    "\n",
    "qft_dagger = qft(t).to_gate().inverse()\n"
   ]
  },
  {
   "cell_type": "code",
   "execution_count": 18,
   "metadata": {},
   "outputs": [
    {
     "data": {
      "text/plain": [
       "<qiskit.circuit.instructionset.InstructionSet at 0x7f8fa81ec6d0>"
      ]
     },
     "execution_count": 18,
     "metadata": {},
     "output_type": "execute_result"
    }
   ],
   "source": [
    "t = 7   # no. of counting qubits\n",
    "n = 4   # no. of searching qubits\n",
    "\n",
    "q=QuantumRegister(n)\n",
    "a=QuantumRegister(5)\n",
    "s=QuantumRegister(t)\n",
    "c=ClassicalRegister(t)\n",
    "\n",
    "qc = QuantumCircuit(s,q,a,c) # Circuit with n+t qubits and t classical bits\n",
    "\n",
    "for qubit in range(t):\n",
    "    qc.h(qubit)\n",
    "\n",
    "qc.append(rot, range(t,n+t))\n",
    "\n",
    "# Begin controlled Grover iterations\n",
    "iterations = 1\n",
    "for qubit in range(t):\n",
    "    for i in range(iterations):\n",
    "        qc.append(cggrover, [qubit] + [*range(t, n+t+5)])\n",
    "    iterations *= 2\n",
    "    \n",
    "# Do inverse QFT on counting qubits\n",
    "qc.append(qft_dagger, range(t))\n",
    "\n",
    "# Measure counting qubits\n",
    "qc.measure(range(t), range(t))\n",
    "\n"
   ]
  },
  {
   "cell_type": "code",
   "execution_count": 22,
   "metadata": {},
   "outputs": [
    {
     "name": "stdout",
     "output_type": "stream",
     "text": [
      "7.715755939483643\n"
     ]
    }
   ],
   "source": [
    "backend = Aer.get_backend('qasm_simulator')\n",
    "start = time.time()\n",
    "\n",
    "job_sim = execute(qc, backend, shots=1000)\n",
    "end = time.time()\n",
    "print(end - start)\n",
    "\n",
    "result_sim = job_sim.result()\n"
   ]
  },
  {
   "cell_type": "code",
   "execution_count": 23,
   "metadata": {
    "scrolled": true
   },
   "outputs": [],
   "source": [
    "counts  = result_sim.get_counts()\n",
    "weights={}\n",
    "for  key, value in counts.items():\n",
    "    theta=2*pi*int(key,2)/2**t\n",
    "    newkey=round(2*sin(theta/2)**2,3)\n",
    "    if newkey in weights:\n",
    "        weights[newkey]=weights[newkey]+value\n",
    "    else:\n",
    "        weights[newkey]=value"
   ]
  },
  {
   "cell_type": "code",
   "execution_count": 24,
   "metadata": {},
   "outputs": [
    {
     "data": {
      "text/plain": [
       "{0.0: 1,\n",
       " 0.293: 1,\n",
       " 0.366: 1,\n",
       " 0.404: 1,\n",
       " 0.444: 3,\n",
       " 0.486: 6,\n",
       " 0.529: 3,\n",
       " 0.572: 14,\n",
       " 0.617: 47,\n",
       " 0.663: 655,\n",
       " 0.71: 188,\n",
       " 0.757: 28,\n",
       " 0.805: 10,\n",
       " 0.853: 7,\n",
       " 0.902: 3,\n",
       " 0.951: 3,\n",
       " 1.049: 3,\n",
       " 1.098: 2,\n",
       " 1.29: 2,\n",
       " 1.596: 1,\n",
       " 1.707: 2,\n",
       " 1.741: 1,\n",
       " 1.773: 1,\n",
       " 1.924: 1,\n",
       " 0.019: 1,\n",
       " 1.989: 1,\n",
       " 1.981: 1,\n",
       " 0.03: 2,\n",
       " 1.337: 1,\n",
       " 1.0: 4,\n",
       " 0.058: 1,\n",
       " 0.259: 2,\n",
       " 0.043: 1,\n",
       " 0.118: 1,\n",
       " 0.169: 1}"
      ]
     },
     "execution_count": 24,
     "metadata": {},
     "output_type": "execute_result"
    }
   ],
   "source": [
    "weights"
   ]
  },
  {
   "cell_type": "code",
   "execution_count": 31,
   "metadata": {},
   "outputs": [],
   "source": [
    "qs={\n",
    "    0.710: 171,\n",
    "0.663: 692,\n",
    "0.757: 29,\n",
    "0.617: 39,\n",
    "0.529: 7,\n",
    "0.486: 6,\n",
    "0.805: 11,\n",
    "0.572: 17,\n",
    "1.000: 2,\n",
    "0.019: 1,\n",
    "1.049: 2,\n",
    "1.904: 1,\n",
    "1.428: 1,\n",
    "0.404: 2,\n",
    "0.293: 1,\n",
    "0.902: 4,\n",
    "1.290: 2,\n",
    "0.169: 1,\n",
    "0.197: 2,\n",
    "0.444: 2,\n",
    "0.259: 1,\n",
    "0.118: 1,\n",
    "1.098: 1,\n",
    "0.227: 1,\n",
    "1.634: 1,\n",
    "0.366: 1,\n",
    "0.951: 1,\n",
    "}"
   ]
  },
  {
   "cell_type": "code",
   "execution_count": 35,
   "metadata": {},
   "outputs": [
    {
     "data": {
      "image/png": "[encoded data removed]",
      "text/plain": [
       "<Figure size 792x432 with 1 Axes>"
      ]
     },
     "execution_count": 35,
     "metadata": {},
     "output_type": "execute_result"
    }
   ],
   "source": [
    "fig=plot_histogram([weights,qs],sort='asc',bar_labels=False, legend=['qiskit','Q#'],figsize =(11,6))\n",
    "fig"
   ]
  },
  {
   "cell_type": "code",
   "execution_count": 36,
   "metadata": {},
   "outputs": [],
   "source": [
    "fig.savefig(\"qwmc.pdf\", bbox_inches='tight')"
   ]
  },
  {
   "cell_type": "code",
   "execution_count": null,
   "metadata": {},
   "outputs": [],
   "source": []
  }
 ],
 "metadata": {
  "kernelspec": {
   "display_name": "Python 3",
   "language": "python",
   "name": "python3"
  },
  "language_info": {
   "codemirror_mode": {
    "name": "ipython",
    "version": 3
   },
   "file_extension": ".py",
   "mimetype": "text/x-python",
   "name": "python",
   "nbconvert_exporter": "python",
   "pygments_lexer": "ipython3",
   "version": "3.8.5"
  }
 },
 "nbformat": 4,
 "nbformat_minor": 2
}
