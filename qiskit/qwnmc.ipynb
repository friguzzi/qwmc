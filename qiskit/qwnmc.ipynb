{
 "cells": [
  {
   "cell_type": "code",
   "execution_count": null,
   "metadata": {},
   "outputs": [],
   "source": [
    "#import pylab\n",
    "import numpy as np\n",
    "from qiskit import Aer\n",
    "from qiskit import QuantumCircuit, ClassicalRegister, QuantumRegister, execute\n",
    "from qiskit.tools.visualization import plot_histogram\n",
    "from qiskit.aqua import run_algorithm\n",
    "from math import pi, acos, sqrt\n",
    "from qiskit.tools.visualization import circuit_drawer\n",
    "from qiskit.aqua.components.iqfts import Standard\n",
    "from qiskit.aqua.operators import MatrixOperator\n",
    "from qiskit.aqua.utils import CircuitFactory\n",
    "from qiskit.aqua.circuits import PhaseEstimationCircuit\n",
    "import time\n",
    "\n",
    "%matplotlib inline"
   ]
  },
  {
   "cell_type": "code",
   "execution_count": 2,
   "metadata": {},
   "outputs": [],
   "source": [
    "def sprinkler(qc,q,a):\n",
    "    qc.x(q[2])\n",
    "    qc.x(a[0])\n",
    "    qc.x(a[1])\n",
    "    qc.x(a[2])\n",
    "    qc.ccx(q[0],q[1],a[0])\n",
    "    qc.ccx(q[1],q[2],a[1])\n",
    "    qc.ccx(q[0],q[2],a[2])\n",
    "    qc.ccx(a[0],a[1],a[3])\n",
    "    qc.ccx(a[2],a[3],a[4])\n",
    "    qc.ccx(a[4],q[3],a[5]) #a[5] output\n",
    "    qc.ccx(a[2],a[3],a[4])\n",
    "    qc.ccx(a[0],a[1],a[3])\n",
    "    qc.ccx(q[0],q[2],a[2])\n",
    "    qc.ccx(q[1],q[2],a[1])\n",
    "    qc.ccx(q[0],q[1],a[0])\n",
    "    qc.x(q[2])\n",
    "    qc.x(a[0])\n",
    "    qc.x(a[1])\n",
    "    qc.x(a[2])\n",
    "    \n"
   ]
  },
  {
   "cell_type": "code",
   "execution_count": 3,
   "metadata": {},
   "outputs": [],
   "source": [
    "class cf(CircuitFactory):\n",
    "    def build(self, qc, q, a):\n",
    "\n",
    "        # Put the target into the |-⟩ state\n",
    "        qc.x(a[5])\n",
    "        qc.h(a[5])\n",
    "        # since the target is in the |-⟩ state,\n",
    "        # flipping the target if the register satisfies the oracle condition will apply a -1 factor to the state\n",
    "        sprinkler(qc,q,a) \n",
    "        qc.h(a[5])\n",
    "        qc.x(a[5])\n",
    "        \n",
    "        # Grover iteration\n",
    "        for i in range(q.size):\n",
    "            qc.h(q[i])\n",
    "            \n",
    "        # |0> -> |0>,  |x> -> -|x>\n",
    "        # flipping all bits\n",
    "        for i in range(q.size):\n",
    "            qc.x(q[i])\n",
    "        # applying Z to a qubit of the register if all bits are 1: this implements |0> -> -|0>,  |x> -> |x>\n",
    "        qc.ccx(q[0],q[1],a[0]) \n",
    "        qc.ccx(a[0],q[2],a[1])\n",
    "        qc.ccx(a[1],q[3],a[2])\n",
    "        qc.cz(a[2],q[0])\n",
    "        # adding a global phase of -1 so that |0> -> |0>,  |x> -> -|x>\n",
    "        qc.ry(2*pi,q[0]) \n",
    "        for i in range(q.size):\n",
    "            qc.x(q[i])\n",
    "        for i in range(q.size):\n",
    "            qc.h(q[i])\n",
    "\n",
    "class ini(CircuitFactory):\n",
    "    def build(self, qc, q, a):\n",
    "        theta0=2.0*acos(sqrt(0.3));\n",
    "        theta1=2.0*acos(sqrt(0.2));\n",
    "        theta2=2.0*acos(sqrt(0.5));\n",
    "        qc.ry(theta0,q[0]);\n",
    "        qc.ry(theta1,q[1]);\n",
    "        qc.ry(theta2,q[2]);\n",
    "        qc.h(q[3])\n",
    "\n",
    "cfs=cf(4)\n",
    "inis=ini(4)"
   ]
  },
  {
   "cell_type": "code",
   "execution_count": 8,
   "metadata": {},
   "outputs": [],
   "source": [
    "iqftr=Standard(5)\n",
    "c=PhaseEstimationCircuit(unitary_circuit_factory=cfs,state_in_circuit_factory=inis,num_ancillae=5,\n",
    "    iqft=iqftr,num_time_slices=5)\n",
    "q=QuantumRegister(4)\n",
    "a=QuantumRegister(6)\n",
    "aa=QuantumRegister(5)\n",
    "cc=c.construct_circuit(state_register=q,auxiliary_register=a,ancillary_register=aa,measurement=True)\n"
   ]
  },
  {
   "cell_type": "code",
   "execution_count": 9,
   "metadata": {},
   "outputs": [
    {
     "name": "stdout",
     "output_type": "stream",
     "text": [
      "17.950317859649658\n"
     ]
    }
   ],
   "source": [
    "backend = Aer.get_backend('qasm_simulator')\n",
    "start = time.time()\n",
    "\n",
    "job_sim = execute(cc, backend, shots=50)\n",
    "end = time.time()\n",
    "print(end - start)\n",
    "\n",
    "result_sim = job_sim.result()\n"
   ]
  },
  {
   "cell_type": "code",
   "execution_count": 10,
   "metadata": {},
   "outputs": [
    {
     "data": {
      "text/plain": [
       "{'11111': 1,\n",
       " '00001': 4,\n",
       " '10100': 2,\n",
       " '00011': 3,\n",
       " '11010': 1,\n",
       " '10111': 2,\n",
       " '11011': 4,\n",
       " '11100': 2,\n",
       " '00100': 1,\n",
       " '10011': 1,\n",
       " '01101': 1,\n",
       " '11001': 14,\n",
       " '10110': 4,\n",
       " '00101': 2,\n",
       " '01000': 1,\n",
       " '10000': 1,\n",
       " '01100': 1,\n",
       " '01011': 2,\n",
       " '11000': 2,\n",
       " '01111': 1}"
      ]
     },
     "execution_count": 10,
     "metadata": {},
     "output_type": "execute_result"
    }
   ],
   "source": [
    "counts  = result_sim.get_counts(cc)\n",
    "counts"
   ]
  },
  {
   "cell_type": "code",
   "execution_count": 11,
   "metadata": {},
   "outputs": [
    {
     "data": {
      "image/png": "[encoded data removed]",
      "text/plain": [
       "<Figure size 504x360 with 1 Axes>"
      ]
     },
     "execution_count": 11,
     "metadata": {},
     "output_type": "execute_result"
    }
   ],
   "source": [
    "plot_histogram(counts,sort='desc')"
   ]
  },
  {
   "cell_type": "code",
   "execution_count": null,
   "metadata": {},
   "outputs": [],
   "source": [
    "q=QuantumRegister(4)\n",
    "a=QuantumRegister(6)\n",
    "qc=QuantumCircuit(q,a)\n",
    "sprinkler(qc,q,a)\n",
    "qc.draw()"
   ]
  },
  {
   "cell_type": "code",
   "execution_count": null,
   "metadata": {},
   "outputs": [],
   "source": [
    "q=QuantumRegister(4)\n",
    "a=QuantumRegister(6)\n",
    "qc=QuantumCircuit(q,a)\n",
    "cfs.build(qc,q,a)\n",
    "qc.draw(output=\"mpl\")"
   ]
  },
  {
   "cell_type": "code",
   "execution_count": null,
   "metadata": {},
   "outputs": [],
   "source": []
  }
 ],
 "metadata": {
  "kernelspec": {
   "display_name": "Python 3",
   "language": "python",
   "name": "python3"
  },
  "language_info": {
   "codemirror_mode": {
    "name": "ipython",
    "version": 3
   },
   "file_extension": ".py",
   "mimetype": "text/x-python",
   "name": "python",
   "nbconvert_exporter": "python",
   "pygments_lexer": "ipython3",
   "version": "3.8.1"
  }
 },
 "nbformat": 4,
 "nbformat_minor": 2
}
