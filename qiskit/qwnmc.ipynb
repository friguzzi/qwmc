{
 "cells": [
  {
   "cell_type": "code",
   "execution_count": 42,
   "metadata": {},
   "outputs": [],
   "source": [
    "#import pylab\n",
    "import numpy as np\n",
    "from qiskit import Aer\n",
    "from qiskit import QuantumCircuit, ClassicalRegister, QuantumRegister, execute\n",
    "#from qiskit.qobj import RunConfig\n",
    "from qiskit.tools.visualization import plot_histogram\n",
    "from qiskit.aqua import QuantumInstance\n",
    "from qiskit.aqua import run_algorithm\n",
    "from qiskit.aqua.algorithms import Grover\n",
    "from qiskit.aqua.components.oracles import  LogicalExpressionOracle\n",
    "from math import pi, acos, sqrt\n",
    "from qiskit.tools.visualization import circuit_drawer\n",
    "from qiskit.quantum_info import state_fidelity\n",
    "from qiskit import BasicAer\n",
    "from qiskit.quantum_info.operators import Operator\n",
    "from qiskit.aqua.algorithms.single_sample import QPE\n",
    "from qiskit.aqua.components.iqfts import Standard\n",
    "from qiskit.aqua.operators import MatrixOperator\n",
    "from qiskit.aqua.utils import CircuitFactory\n",
    "from qiskit.aqua.circuits import PhaseEstimationCircuit\n",
    "%matplotlib inline"
   ]
  },
  {
   "cell_type": "code",
   "execution_count": 43,
   "metadata": {},
   "outputs": [],
   "source": [
    "def sprinkler(qc,q,a):\n",
    "    qc.x(q[2])\n",
    "    qc.x(a[0])\n",
    "    qc.x(a[1])\n",
    "    qc.x(a[2])\n",
    "    qc.ccx(q[0],q[1],a[0])\n",
    "    qc.ccx(q[1],q[2],a[1])\n",
    "    qc.ccx(q[0],q[2],a[2])\n",
    "    qc.ccx(a[0],a[1],a[3])\n",
    "    qc.ccx(a[2],a[3],a[4]) #a[4] output\n",
    "    qc.ccx(a[0],a[1],a[3])\n",
    "    qc.ccx(q[0],q[2],a[2])\n",
    "    qc.ccx(q[1],q[2],a[1])\n",
    "    qc.ccx(q[0],q[1],a[0])\n",
    "    qc.x(q[2])\n",
    "    qc.x(a[0])\n",
    "    qc.x(a[1])\n",
    "    qc.x(a[2])\n",
    "    \n"
   ]
  },
  {
   "cell_type": "code",
   "execution_count": 44,
   "metadata": {},
   "outputs": [],
   "source": [
    "class cf(CircuitFactory):\n",
    "    def build(self, qc, q, a):\n",
    "        qc.x(a[4])\n",
    "        qc.h(a[4])\n",
    "        sprinkler(qc,q,a)\n",
    "        qc.h(a[4])\n",
    "        qc.x(a[4])\n",
    "        for i in range(q.size):\n",
    "            qc.h(q[i])\n",
    "        for i in range(q.size):\n",
    "            qc.x(q[i])\n",
    "        qc.ccx(q[0],q[1],a[5])\n",
    "        qc.cz(a[5],q[1])\n",
    "        for i in range(q.size):\n",
    "            qc.x(q[i])\n",
    "        qc.ry(2*pi,q[0]) \n",
    "        for i in range(q.size):\n",
    "            qc.h(q[i])\n",
    "\n",
    "class ini(CircuitFactory):\n",
    "    def build(self, qc, q, a):\n",
    "        theta0=2.0*acos(sqrt(0.3));\n",
    "        theta1=2.0*acos(sqrt(0.2));\n",
    "        theta2=2.0*acos(sqrt(0.5));\n",
    "        qc.ry(theta0,q[0]);\n",
    "        qc.ry(theta1,q[1]);\n",
    "        qc.ry(theta2,q[2]);\n",
    "\n",
    "cfs=cf(3)\n",
    "inis=ini(3)"
   ]
  },
  {
   "cell_type": "code",
   "execution_count": 45,
   "metadata": {},
   "outputs": [],
   "source": [
    "iqftr=Standard(5)\n",
    "c=PhaseEstimationCircuit(unitary_circuit_factory=cfs,state_in_circuit_factory=inis,num_ancillae=4,iqft=iqftr,num_time_slices=4)\n",
    "q=QuantumRegister(3)\n",
    "a=QuantumRegister(4)\n",
    "aa=QuantumRegister(6)\n",
    "cc=c.construct_circuit(q,a,aa,measurement=True)\n"
   ]
  },
  {
   "cell_type": "code",
   "execution_count": 46,
   "metadata": {},
   "outputs": [],
   "source": [
    "backend = Aer.get_backend('qasm_simulator')\n",
    "job_sim = execute(cc, backend, shots=200)\n",
    "\n",
    "result_sim = job_sim.result()"
   ]
  },
  {
   "cell_type": "code",
   "execution_count": 47,
   "metadata": {},
   "outputs": [
    {
     "data": {
      "text/plain": [
       "{'0110': 11,\n",
       " '1110': 1,\n",
       " '1111': 2,\n",
       " '0101': 7,\n",
       " '0100': 5,\n",
       " '0000': 9,\n",
       " '1011': 21,\n",
       " '1100': 20,\n",
       " '0001': 47,\n",
       " '1000': 1,\n",
       " '1001': 2,\n",
       " '1010': 36,\n",
       " '1101': 32,\n",
       " '0111': 5,\n",
       " '0010': 1}"
      ]
     },
     "execution_count": 47,
     "metadata": {},
     "output_type": "execute_result"
    }
   ],
   "source": [
    "counts  = result_sim.get_counts(cc)\n",
    "counts"
   ]
  },
  {
   "cell_type": "code",
   "execution_count": 48,
   "metadata": {},
   "outputs": [
    {
     "data": {
      "image/png": "[encoded data removed]",
      "text/plain": [
       "<Figure size 504x360 with 1 Axes>"
      ]
     },
     "execution_count": 48,
     "metadata": {},
     "output_type": "execute_result"
    }
   ],
   "source": [
    "plot_histogram(counts,sort='desc')"
   ]
  },
  {
   "cell_type": "code",
   "execution_count": null,
   "metadata": {},
   "outputs": [],
   "source": []
  }
 ],
 "metadata": {
  "kernelspec": {
   "display_name": "Python 3",
   "language": "python",
   "name": "python3"
  },
  "language_info": {
   "codemirror_mode": {
    "name": "ipython",
    "version": 3
   },
   "file_extension": ".py",
   "mimetype": "text/x-python",
   "name": "python",
   "nbconvert_exporter": "python",
   "pygments_lexer": "ipython3",
   "version": "3.7.5"
  }
 },
 "nbformat": 4,
 "nbformat_minor": 2
}
