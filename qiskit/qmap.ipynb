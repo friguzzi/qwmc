{
 "cells": [
  {
   "cell_type": "code",
   "execution_count": 1,
   "metadata": {},
   "outputs": [],
   "source": [
    "import numpy as np\n",
    "from qiskit import Aer\n",
    "from qiskit import QuantumCircuit, ClassicalRegister, QuantumRegister, execute\n",
    "from qiskit.tools.visualization import plot_histogram\n",
    "from math import pi, acos, sqrt, sin, asin\n",
    "from qiskit.tools.visualization import circuit_drawer\n",
    "import time\n",
    "\n",
    "%matplotlib inline"
   ]
  },
  {
   "cell_type": "code",
   "execution_count": 2,
   "metadata": {},
   "outputs": [],
   "source": [
    "def sprinkler(qc,q,a):\n",
    "    qc.x(q[2])\n",
    "    qc.x(a[0])\n",
    "    qc.x(a[1])\n",
    "    qc.x(a[2])\n",
    "    qc.ccx(q[0],q[1],a[0])\n",
    "    qc.ccx(q[1],q[2],a[1])\n",
    "    qc.ccx(q[0],q[2],a[2])\n",
    "    qc.mct([a[0],a[1],a[2],q[3]],a[3])\n",
    "    qc.ccx(q[0],q[2],a[2])\n",
    "    qc.ccx(q[1],q[2],a[1])\n",
    "    qc.ccx(q[0],q[1],a[0])\n",
    "    qc.x(a[2])\n",
    "    qc.x(a[1])\n",
    "    qc.x(a[0])\n",
    "    qc.x(q[2])\n"
   ]
  },
  {
   "cell_type": "code",
   "execution_count": 3,
   "metadata": {},
   "outputs": [],
   "source": [
    "def prepare():\n",
    "    q=QuantumRegister(4)\n",
    "    qc=QuantumCircuit(q)\n",
    "    theta0=2.0*asin(sqrt(0.55))\n",
    "    theta1=2.0*asin(sqrt(0.3))\n",
    "    theta2=2.0*asin(sqrt(0.7))\n",
    "    qc.ry(theta0,q[0])\n",
    "    qc.ry(theta1,q[1])\n",
    "    qc.ry(theta2,q[2])\n",
    "    qc.h(q[3])\n",
    "    return qc\n",
    "\n",
    "prep=prepare().to_gate()\n",
    "invprep=prep.inverse()"
   ]
  },
  {
   "cell_type": "code",
   "execution_count": 4,
   "metadata": {},
   "outputs": [],
   "source": [
    "def grover():\n",
    "    q=QuantumRegister(4)\n",
    "    a=QuantumRegister(5)\n",
    "    qc=QuantumCircuit(q,a)\n",
    "    qc.x(a[3])\n",
    "    qc.h(a[3])\n",
    "    sprinkler(qc,q,a)\n",
    "    qc.h(a[3])\n",
    "    qc.x(a[3])\n",
    "    qc.append(invprep,range(4))    \n",
    "    for i in range(q.size):\n",
    "        qc.x(q[i])\n",
    "    qc.mct([q[0],q[1],q[2],q[3]],a[4])\n",
    "    qc.z(a[4])\n",
    "    qc.mct([q[0],q[1],q[2],q[3]],a[4])\n",
    "    for i in range(q.size):\n",
    "        qc.x(q[i])\n",
    "    qc.ry(2*pi,q[0]) \n",
    "    qc.append(prep,range(4)) \n",
    "    return qc\n",
    "    \n",
    "ggrover = grover().to_gate()"
   ]
  },
  {
   "cell_type": "code",
   "execution_count": 5,
   "metadata": {},
   "outputs": [
    {
     "data": {
      "text/plain": [
       "<qiskit.circuit.instructionset.InstructionSet at 0x7fc840db3490>"
      ]
     },
     "execution_count": 5,
     "metadata": {},
     "output_type": "execute_result"
    }
   ],
   "source": [
    "#map\n",
    "q=QuantumRegister(4)\n",
    "a=QuantumRegister(5)\n",
    "c=ClassicalRegister(2)\n",
    "\n",
    "qc=QuantumCircuit(q,a,c)\n",
    "qc.append(prep, range(4))\n",
    "qc.append(ggrover,range(9))\n",
    "qc.measure([q[0],q[2]],c)"
   ]
  },
  {
   "cell_type": "code",
   "execution_count": 6,
   "metadata": {},
   "outputs": [
    {
     "name": "stdout",
     "output_type": "stream",
     "text": [
      "0.07283830642700195\n"
     ]
    }
   ],
   "source": [
    "backend = Aer.get_backend('qasm_simulator')\n",
    "start = time.time()\n",
    "\n",
    "job_sim = execute(qc, backend, shots=1000)\n",
    "end = time.time()\n",
    "print(end - start)\n",
    "\n",
    "result_sim = job_sim.result()"
   ]
  },
  {
   "cell_type": "code",
   "execution_count": 7,
   "metadata": {},
   "outputs": [
    {
     "data": {
      "text/plain": [
       "{'00': 142, '10': 26, '01': 464, '11': 368}"
      ]
     },
     "execution_count": 7,
     "metadata": {},
     "output_type": "execute_result"
    }
   ],
   "source": [
    "counts  = result_sim.get_counts()\n",
    "newcounts={}\n",
    "for key, value in counts.items():\n",
    "    newkey=key[::-1] # reverses the key\n",
    "    newcounts[newkey]=value\n",
    "newcounts"
   ]
  },
  {
   "cell_type": "code",
   "execution_count": 8,
   "metadata": {},
   "outputs": [],
   "source": [
    "qs={\n",
    "    '11': 405,\n",
    "'01': 442,\n",
    "'00': 134,\n",
    "'10': 19,\n",
    "}"
   ]
  },
  {
   "cell_type": "code",
   "execution_count": 9,
   "metadata": {},
   "outputs": [
    {
     "data": {
      "image/png": "[encoded data removed]",
      "text/plain": [
       "<Figure size 792x432 with 1 Axes>"
      ]
     },
     "execution_count": 9,
     "metadata": {},
     "output_type": "execute_result"
    }
   ],
   "source": [
    "fig=plot_histogram([newcounts,qs],sort='asc',bar_labels=False,legend=['qiskit','Q#'],figsize =(11,6))\n",
    "fig"
   ]
  },
  {
   "cell_type": "code",
   "execution_count": 13,
   "metadata": {},
   "outputs": [],
   "source": [
    "fig.savefig(\"qmap.pdf\", bbox_inches='tight')"
   ]
  },
  {
   "cell_type": "code",
   "execution_count": null,
   "metadata": {},
   "outputs": [],
   "source": []
  }
 ],
 "metadata": {
  "kernelspec": {
   "display_name": "Python 3",
   "language": "python",
   "name": "python3"
  },
  "language_info": {
   "codemirror_mode": {
    "name": "ipython",
    "version": 3
   },
   "file_extension": ".py",
   "mimetype": "text/x-python",
   "name": "python",
   "nbconvert_exporter": "python",
   "pygments_lexer": "ipython3",
   "version": "3.8.5"
  }
 },
 "nbformat": 4,
 "nbformat_minor": 2
}
