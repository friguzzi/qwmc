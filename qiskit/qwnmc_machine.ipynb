{
 "cells": [
  {
   "cell_type": "code",
   "execution_count": 6,
   "metadata": {},
   "outputs": [],
   "source": [
    "#import pylab\n",
    "import numpy as np\n",
    "from qiskit import Aer\n",
    "from qiskit import QuantumCircuit, ClassicalRegister, QuantumRegister, execute\n",
    "#from qiskit.qobj import RunConfig\n",
    "from qiskit.tools.visualization import plot_histogram\n",
    "from qiskit.aqua import QuantumInstance\n",
    "from qiskit.aqua import run_algorithm\n",
    "from qiskit.aqua.algorithms import Grover\n",
    "from qiskit.aqua.components.oracles import  LogicalExpressionOracle\n",
    "from math import pi, acos, sqrt\n",
    "from qiskit.tools.visualization import circuit_drawer\n",
    "from qiskit.quantum_info import state_fidelity\n",
    "from qiskit import BasicAer\n",
    "from qiskit.quantum_info.operators import Operator\n",
    "from qiskit.aqua.algorithms.single_sample import QPE\n",
    "from qiskit.aqua.components.iqfts import Standard\n",
    "from qiskit.aqua.operators import MatrixOperator\n",
    "from qiskit.aqua.utils import CircuitFactory\n",
    "from qiskit.aqua.circuits import PhaseEstimationCircuit\n",
    "import time\n",
    "%matplotlib inline"
   ]
  },
  {
   "cell_type": "code",
   "execution_count": 2,
   "metadata": {},
   "outputs": [],
   "source": [
    "def sprinkler(qc,q,a):\n",
    "    qc.x(q[2])\n",
    "    qc.x(a[0])\n",
    "    qc.x(a[1])\n",
    "    qc.x(a[2])\n",
    "    qc.ccx(q[0],q[1],a[0])\n",
    "    qc.ccx(q[1],q[2],a[1])\n",
    "    qc.ccx(q[0],q[2],a[2])\n",
    "    qc.ccx(a[0],a[1],a[3])\n",
    "    qc.ccx(a[2],a[3],a[4]) #a[4] output\n",
    "    qc.ccx(a[0],a[1],a[3])\n",
    "    qc.ccx(q[0],q[2],a[2])\n",
    "    qc.ccx(q[1],q[2],a[1])\n",
    "    qc.ccx(q[0],q[1],a[0])\n",
    "    qc.x(q[2])\n",
    "    qc.x(a[0])\n",
    "    qc.x(a[1])\n",
    "    qc.x(a[2])\n",
    "    \n"
   ]
  },
  {
   "cell_type": "code",
   "execution_count": 3,
   "metadata": {},
   "outputs": [],
   "source": [
    "class cf(CircuitFactory):\n",
    "    def build(self, qc, q, a):\n",
    "        qc.x(a[4])\n",
    "        qc.h(a[4])\n",
    "        sprinkler(qc,q,a)\n",
    "        qc.h(a[4])\n",
    "        qc.x(a[4])\n",
    "        for i in range(q.size):\n",
    "            qc.h(q[i])\n",
    "        for i in range(q.size):\n",
    "            qc.x(q[i])\n",
    "        qc.ccx(q[0],q[1],a[5])\n",
    "        qc.cz(a[5],q[1])\n",
    "        for i in range(q.size):\n",
    "            qc.x(q[i])\n",
    "        qc.ry(2*pi,q[0]) \n",
    "        for i in range(q.size):\n",
    "            qc.h(q[i])\n",
    "\n",
    "class ini(CircuitFactory):\n",
    "    def build(self, qc, q, a):\n",
    "        theta0=2.0*acos(sqrt(0.3));\n",
    "        theta1=2.0*acos(sqrt(0.2));\n",
    "        theta2=2.0*acos(sqrt(0.5));\n",
    "        qc.ry(theta0,q[0]);\n",
    "        qc.ry(theta1,q[1]);\n",
    "        qc.ry(theta2,q[2]);\n",
    "\n",
    "cfs=cf(3)\n",
    "inis=ini(3)"
   ]
  },
  {
   "cell_type": "code",
   "execution_count": 4,
   "metadata": {},
   "outputs": [],
   "source": [
    "iqftr=Standard(5)\n",
    "c=PhaseEstimationCircuit(unitary_circuit_factory=cfs,state_in_circuit_factory=inis,num_ancillae=4,iqft=iqftr,num_time_slices=4)\n",
    "q=QuantumRegister(3)\n",
    "a=QuantumRegister(4)\n",
    "aa=QuantumRegister(6)\n",
    "cc=c.construct_circuit(q,a,aa,measurement=True)\n"
   ]
  },
  {
   "cell_type": "code",
   "execution_count": 1,
   "metadata": {},
   "outputs": [
    {
     "ename": "ModuleNotFoundError",
     "evalue": "No module named 'qiskit'",
     "output_type": "error",
     "traceback": [
      "\u001b[0;31m---------------------------------------------------------------------------\u001b[0m",
      "\u001b[0;31mModuleNotFoundError\u001b[0m                       Traceback (most recent call last)",
      "\u001b[0;32m<ipython-input-1-b1ddfb0b1519>\u001b[0m in \u001b[0;36m<module>\u001b[0;34m\u001b[0m\n\u001b[0;32m----> 1\u001b[0;31m \u001b[0;32mfrom\u001b[0m \u001b[0mqiskit\u001b[0m \u001b[0;32mimport\u001b[0m \u001b[0mIBMQ\u001b[0m\u001b[0;34m\u001b[0m\u001b[0;34m\u001b[0m\u001b[0m\n\u001b[0m\u001b[1;32m      2\u001b[0m \u001b[0mIBMQ\u001b[0m\u001b[0;34m.\u001b[0m\u001b[0msave_account\u001b[0m\u001b[0;34m(\u001b[0m\u001b[0;34m'TOKEN'\u001b[0m\u001b[0;34m)\u001b[0m\u001b[0;34m\u001b[0m\u001b[0;34m\u001b[0m\u001b[0m\n",
      "\u001b[0;31mModuleNotFoundError\u001b[0m: No module named 'qiskit'"
     ]
    }
   ],
   "source": [
    "from qiskit import IBMQ\n",
    "IBMQ.save_account('TOKEN')"
   ]
  },
  {
   "cell_type": "code",
   "execution_count": 13,
   "metadata": {},
   "outputs": [
    {
     "name": "stderr",
     "output_type": "stream",
     "text": [
      "Credentials are already in use. The existing account in the session will be replaced.\n"
     ]
    },
    {
     "name": "stdout",
     "output_type": "stream",
     "text": [
      "ibmq_16_melbourne 3\n",
      "162.99223375320435\n"
     ]
    },
    {
     "ename": "IBMQJobFailureError",
     "evalue": "'Unable to retrieve job result. Job has failed. Use job.error_message() to get more details.'",
     "output_type": "error",
     "traceback": [
      "\u001b[0;31m---------------------------------------------------------------------------\u001b[0m",
      "\u001b[0;31mIBMQJobFailureError\u001b[0m                       Traceback (most recent call last)",
      "\u001b[0;32m<ipython-input-13-cdb8ffdd185b>\u001b[0m in \u001b[0;36m<module>\u001b[0;34m\u001b[0m\n\u001b[1;32m      8\u001b[0m \u001b[0mprint\u001b[0m\u001b[0;34m(\u001b[0m\u001b[0mend\u001b[0m \u001b[0;34m-\u001b[0m \u001b[0mstart\u001b[0m\u001b[0;34m)\u001b[0m\u001b[0;34m\u001b[0m\u001b[0;34m\u001b[0m\u001b[0m\n\u001b[1;32m      9\u001b[0m \u001b[0;34m\u001b[0m\u001b[0m\n\u001b[0;32m---> 10\u001b[0;31m \u001b[0mresult_sim\u001b[0m \u001b[0;34m=\u001b[0m \u001b[0mjob_sim\u001b[0m\u001b[0;34m.\u001b[0m\u001b[0mresult\u001b[0m\u001b[0;34m(\u001b[0m\u001b[0;34m)\u001b[0m\u001b[0;34m\u001b[0m\u001b[0;34m\u001b[0m\u001b[0m\n\u001b[0m",
      "\u001b[0;32m/opt/conda/lib/python3.7/site-packages/qiskit/providers/ibmq/job/ibmqjob.py\u001b[0m in \u001b[0;36mresult\u001b[0;34m(self, timeout, wait, partial, refresh)\u001b[0m\n\u001b[1;32m    244\u001b[0m \u001b[0;34m\u001b[0m\u001b[0m\n\u001b[1;32m    245\u001b[0m             \u001b[0;32mif\u001b[0m \u001b[0mself\u001b[0m\u001b[0;34m.\u001b[0m\u001b[0m_status\u001b[0m \u001b[0;32mis\u001b[0m \u001b[0mJobStatus\u001b[0m\u001b[0;34m.\u001b[0m\u001b[0mERROR\u001b[0m \u001b[0;32mand\u001b[0m \u001b[0;32mnot\u001b[0m \u001b[0mpartial\u001b[0m\u001b[0;34m:\u001b[0m\u001b[0;34m\u001b[0m\u001b[0;34m\u001b[0m\u001b[0m\n\u001b[0;32m--> 246\u001b[0;31m                 raise IBMQJobFailureError('Unable to retrieve job result. Job has failed. '\n\u001b[0m\u001b[1;32m    247\u001b[0m                                           'Use job.error_message() to get more details.')\n\u001b[1;32m    248\u001b[0m \u001b[0;34m\u001b[0m\u001b[0m\n",
      "\u001b[0;31mIBMQJobFailureError\u001b[0m: 'Unable to retrieve job result. Job has failed. Use job.error_message() to get more details.'"
     ]
    }
   ],
   "source": [
    "provider = IBMQ.load_account()\n",
    "backend = provider.get_backend('ibmq_16_melbourne')\n",
    "print(backend, backend.status().pending_jobs)\n",
    "start = time.time()\n",
    "\n",
    "job_sim = execute(cc, backend, shots=10)\n",
    "end = time.time()\n",
    "print(end - start)\n",
    "\n",
    "result_sim = job_sim.result()"
   ]
  },
  {
   "cell_type": "code",
   "execution_count": 14,
   "metadata": {},
   "outputs": [
    {
     "data": {
      "text/plain": [
       "'Internal Error. Error code: 9999.'"
      ]
     },
     "execution_count": 14,
     "metadata": {},
     "output_type": "execute_result"
    }
   ],
   "source": [
    "job_sim.error_message()"
   ]
  },
  {
   "cell_type": "code",
   "execution_count": 8,
   "metadata": {},
   "outputs": [
    {
     "data": {
      "text/plain": [
       "{'1111': 1, '1100': 4, '0100': 3, '1101': 1, '1011': 1}"
      ]
     },
     "execution_count": 8,
     "metadata": {},
     "output_type": "execute_result"
    }
   ],
   "source": [
    "counts  = result_sim.get_counts(cc)\n",
    "counts"
   ]
  },
  {
   "cell_type": "code",
   "execution_count": 9,
   "metadata": {},
   "outputs": [
    {
     "data": {
      "image/png": "[encoded data removed]",
      "text/plain": [
       "<Figure size 504x360 with 1 Axes>"
      ]
     },
     "execution_count": 9,
     "metadata": {},
     "output_type": "execute_result"
    }
   ],
   "source": [
    "plot_histogram(counts,sort='desc')"
   ]
  },
  {
   "cell_type": "code",
   "execution_count": null,
   "metadata": {},
   "outputs": [],
   "source": []
  }
 ],
 "metadata": {
  "kernelspec": {
   "display_name": "Python 3",
   "language": "python",
   "name": "python3"
  },
  "language_info": {
   "codemirror_mode": {
    "name": "ipython",
    "version": 3
   },
   "file_extension": ".py",
   "mimetype": "text/x-python",
   "name": "python",
   "nbconvert_exporter": "python",
   "pygments_lexer": "ipython3",
   "version": "3.7.3"
  }
 },
 "nbformat": 4,
 "nbformat_minor": 2
}
